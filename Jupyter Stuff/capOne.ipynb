{
 "cells": [
  {
   "cell_type": "markdown",
   "metadata": {},
   "source": [
    "In this Jupyter notebook, we conduct an exploratory analysis of bike share data provided by Capital One. "
   ]
  },
  {
   "cell_type": "code",
   "execution_count": 2,
   "metadata": {},
   "outputs": [],
   "source": [
    "# Importing appropriate libraries\n",
    "\n",
    "import pandas as pd\n",
    "import numpy as np\n",
    "from numpy import median, mean\n",
    "\n",
    "# Data Visualization libraries\n",
    "import seaborn as sns\n",
    "import matplotlib.pyplot as plt\n",
    "import matplotlib.mlab as mlab\n",
    "import matplotlib.patches as mpatches\n",
    "import matplotlib.pyplot as plt\n",
    "%matplotlib inline\n",
    "\n",
    "# Additional Libraries\n",
    "import geopy.distance\n",
    "import math\n",
    "import operator\n",
    "from collections import Counter\n",
    "\n",
    "# Display full column widths to read schema descriptions\n",
    "pd.options.display.max_colwidth = 200 "
   ]
  },
  {
   "cell_type": "code",
   "execution_count": 3,
   "metadata": {},
   "outputs": [
    {
     "data": {
      "text/html": [
       "<div>\n",
       "<style scoped>\n",
       "    .dataframe tbody tr th:only-of-type {\n",
       "        vertical-align: middle;\n",
       "    }\n",
       "\n",
       "    .dataframe tbody tr th {\n",
       "        vertical-align: top;\n",
       "    }\n",
       "\n",
       "    .dataframe thead th {\n",
       "        text-align: right;\n",
       "    }\n",
       "</style>\n",
       "<table border=\"1\" class=\"dataframe\">\n",
       "  <thead>\n",
       "    <tr style=\"text-align: right;\">\n",
       "      <th></th>\n",
       "      <th>Trip ID</th>\n",
       "      <th>Duration</th>\n",
       "      <th>Start Time</th>\n",
       "      <th>End Time</th>\n",
       "      <th>Starting Station ID</th>\n",
       "      <th>Starting Station Latitude</th>\n",
       "      <th>Starting Station Longitude</th>\n",
       "      <th>Ending Station ID</th>\n",
       "      <th>Ending Station Latitude</th>\n",
       "      <th>Ending Station Longitude</th>\n",
       "      <th>Bike ID</th>\n",
       "      <th>Plan Duration</th>\n",
       "      <th>Trip Route Category</th>\n",
       "      <th>Passholder Type</th>\n",
       "      <th>Starting Lat-Long</th>\n",
       "      <th>Ending Lat-Long</th>\n",
       "    </tr>\n",
       "  </thead>\n",
       "  <tbody>\n",
       "    <tr>\n",
       "      <th>0</th>\n",
       "      <td>1912818</td>\n",
       "      <td>180</td>\n",
       "      <td>2016-07-07T04:17:00</td>\n",
       "      <td>2016-07-07T04:20:00</td>\n",
       "      <td>3014.0</td>\n",
       "      <td>34.056610</td>\n",
       "      <td>-118.23721</td>\n",
       "      <td>3014.0</td>\n",
       "      <td>34.056610</td>\n",
       "      <td>-118.23721</td>\n",
       "      <td>6281.0</td>\n",
       "      <td>30.0</td>\n",
       "      <td>Round Trip</td>\n",
       "      <td>Monthly Pass</td>\n",
       "      <td>{'longitude': '-118.23721', 'latitude': '34.0566101', 'needs_recoding': False}</td>\n",
       "      <td>{'longitude': '-118.23721', 'latitude': '34.0566101', 'needs_recoding': False}</td>\n",
       "    </tr>\n",
       "    <tr>\n",
       "      <th>1</th>\n",
       "      <td>1919661</td>\n",
       "      <td>1980</td>\n",
       "      <td>2016-07-07T06:00:00</td>\n",
       "      <td>2016-07-07T06:33:00</td>\n",
       "      <td>3014.0</td>\n",
       "      <td>34.056610</td>\n",
       "      <td>-118.23721</td>\n",
       "      <td>3014.0</td>\n",
       "      <td>34.056610</td>\n",
       "      <td>-118.23721</td>\n",
       "      <td>6281.0</td>\n",
       "      <td>30.0</td>\n",
       "      <td>Round Trip</td>\n",
       "      <td>Monthly Pass</td>\n",
       "      <td>{'longitude': '-118.23721', 'latitude': '34.0566101', 'needs_recoding': False}</td>\n",
       "      <td>{'longitude': '-118.23721', 'latitude': '34.0566101', 'needs_recoding': False}</td>\n",
       "    </tr>\n",
       "    <tr>\n",
       "      <th>2</th>\n",
       "      <td>1933383</td>\n",
       "      <td>300</td>\n",
       "      <td>2016-07-07T10:32:00</td>\n",
       "      <td>2016-07-07T10:37:00</td>\n",
       "      <td>3016.0</td>\n",
       "      <td>34.052898</td>\n",
       "      <td>-118.24156</td>\n",
       "      <td>3016.0</td>\n",
       "      <td>34.052898</td>\n",
       "      <td>-118.24156</td>\n",
       "      <td>5861.0</td>\n",
       "      <td>365.0</td>\n",
       "      <td>Round Trip</td>\n",
       "      <td>Flex Pass</td>\n",
       "      <td>{'longitude': '-118.24156', 'latitude': '34.0528984', 'needs_recoding': False}</td>\n",
       "      <td>{'longitude': '-118.24156', 'latitude': '34.0528984', 'needs_recoding': False}</td>\n",
       "    </tr>\n",
       "    <tr>\n",
       "      <th>3</th>\n",
       "      <td>1944197</td>\n",
       "      <td>10860</td>\n",
       "      <td>2016-07-07T10:37:00</td>\n",
       "      <td>2016-07-07T13:38:00</td>\n",
       "      <td>3016.0</td>\n",
       "      <td>34.052898</td>\n",
       "      <td>-118.24156</td>\n",
       "      <td>3016.0</td>\n",
       "      <td>34.052898</td>\n",
       "      <td>-118.24156</td>\n",
       "      <td>5861.0</td>\n",
       "      <td>365.0</td>\n",
       "      <td>Round Trip</td>\n",
       "      <td>Flex Pass</td>\n",
       "      <td>{'longitude': '-118.24156', 'latitude': '34.0528984', 'needs_recoding': False}</td>\n",
       "      <td>{'longitude': '-118.24156', 'latitude': '34.0528984', 'needs_recoding': False}</td>\n",
       "    </tr>\n",
       "    <tr>\n",
       "      <th>4</th>\n",
       "      <td>1940317</td>\n",
       "      <td>420</td>\n",
       "      <td>2016-07-07T12:51:00</td>\n",
       "      <td>2016-07-07T12:58:00</td>\n",
       "      <td>3032.0</td>\n",
       "      <td>34.049889</td>\n",
       "      <td>-118.25588</td>\n",
       "      <td>3032.0</td>\n",
       "      <td>34.049889</td>\n",
       "      <td>-118.25588</td>\n",
       "      <td>6674.0</td>\n",
       "      <td>0.0</td>\n",
       "      <td>Round Trip</td>\n",
       "      <td>Walk-up</td>\n",
       "      <td>{'longitude': '-118.25588', 'latitude': '34.0498886', 'needs_recoding': False}</td>\n",
       "      <td>{'longitude': '-118.25588', 'latitude': '34.0498886', 'needs_recoding': False}</td>\n",
       "    </tr>\n",
       "  </tbody>\n",
       "</table>\n",
       "</div>"
      ],
      "text/plain": [
       "   Trip ID  Duration           Start Time             End Time  \\\n",
       "0  1912818       180  2016-07-07T04:17:00  2016-07-07T04:20:00   \n",
       "1  1919661      1980  2016-07-07T06:00:00  2016-07-07T06:33:00   \n",
       "2  1933383       300  2016-07-07T10:32:00  2016-07-07T10:37:00   \n",
       "3  1944197     10860  2016-07-07T10:37:00  2016-07-07T13:38:00   \n",
       "4  1940317       420  2016-07-07T12:51:00  2016-07-07T12:58:00   \n",
       "\n",
       "   Starting Station ID  Starting Station Latitude  Starting Station Longitude  \\\n",
       "0               3014.0                  34.056610                  -118.23721   \n",
       "1               3014.0                  34.056610                  -118.23721   \n",
       "2               3016.0                  34.052898                  -118.24156   \n",
       "3               3016.0                  34.052898                  -118.24156   \n",
       "4               3032.0                  34.049889                  -118.25588   \n",
       "\n",
       "   Ending Station ID  Ending Station Latitude  Ending Station Longitude  \\\n",
       "0             3014.0                34.056610                -118.23721   \n",
       "1             3014.0                34.056610                -118.23721   \n",
       "2             3016.0                34.052898                -118.24156   \n",
       "3             3016.0                34.052898                -118.24156   \n",
       "4             3032.0                34.049889                -118.25588   \n",
       "\n",
       "   Bike ID  Plan Duration Trip Route Category Passholder Type  \\\n",
       "0   6281.0           30.0          Round Trip    Monthly Pass   \n",
       "1   6281.0           30.0          Round Trip    Monthly Pass   \n",
       "2   5861.0          365.0          Round Trip       Flex Pass   \n",
       "3   5861.0          365.0          Round Trip       Flex Pass   \n",
       "4   6674.0            0.0          Round Trip         Walk-up   \n",
       "\n",
       "                                                                Starting Lat-Long  \\\n",
       "0  {'longitude': '-118.23721', 'latitude': '34.0566101', 'needs_recoding': False}   \n",
       "1  {'longitude': '-118.23721', 'latitude': '34.0566101', 'needs_recoding': False}   \n",
       "2  {'longitude': '-118.24156', 'latitude': '34.0528984', 'needs_recoding': False}   \n",
       "3  {'longitude': '-118.24156', 'latitude': '34.0528984', 'needs_recoding': False}   \n",
       "4  {'longitude': '-118.25588', 'latitude': '34.0498886', 'needs_recoding': False}   \n",
       "\n",
       "                                                                  Ending Lat-Long  \n",
       "0  {'longitude': '-118.23721', 'latitude': '34.0566101', 'needs_recoding': False}  \n",
       "1  {'longitude': '-118.23721', 'latitude': '34.0566101', 'needs_recoding': False}  \n",
       "2  {'longitude': '-118.24156', 'latitude': '34.0528984', 'needs_recoding': False}  \n",
       "3  {'longitude': '-118.24156', 'latitude': '34.0528984', 'needs_recoding': False}  \n",
       "4  {'longitude': '-118.25588', 'latitude': '34.0498886', 'needs_recoding': False}  "
      ]
     },
     "execution_count": 3,
     "metadata": {},
     "output_type": "execute_result"
    }
   ],
   "source": [
    "# Read in our data, convert to pandas dataframe \n",
    "df = pd.read_csv('./metro-bike-share-trip-data.csv', low_memory=False)\n",
    "# Look at first 5 rows in our data to get a feel of what our data is like\n",
    "df.head()"
   ]
  },
  {
   "cell_type": "code",
   "execution_count": 4,
   "metadata": {},
   "outputs": [
    {
     "name": "stdout",
     "output_type": "stream",
     "text": [
      "<class 'pandas.core.frame.DataFrame'>\n",
      "RangeIndex: 132427 entries, 0 to 132426\n",
      "Data columns (total 16 columns):\n",
      "Trip ID                       132427 non-null int64\n",
      "Duration                      132427 non-null int64\n",
      "Start Time                    132427 non-null object\n",
      "End Time                      132427 non-null object\n",
      "Starting Station ID           132408 non-null float64\n",
      "Starting Station Latitude     132379 non-null float64\n",
      "Starting Station Longitude    132379 non-null float64\n",
      "Ending Station ID             132331 non-null float64\n",
      "Ending Station Latitude       131376 non-null float64\n",
      "Ending Station Longitude      131376 non-null float64\n",
      "Bike ID                       132417 non-null float64\n",
      "Plan Duration                 131661 non-null float64\n",
      "Trip Route Category           132427 non-null object\n",
      "Passholder Type               132427 non-null object\n",
      "Starting Lat-Long             98622 non-null object\n",
      "Ending Lat-Long               131376 non-null object\n",
      "dtypes: float64(8), int64(2), object(6)\n",
      "memory usage: 16.2+ MB\n"
     ]
    }
   ],
   "source": [
    "# Checking for null values (missing data)\n",
    "df.info()"
   ]
  },
  {
   "cell_type": "markdown",
   "metadata": {},
   "source": [
    "From our output, we can see that there are variables with missing data. "
   ]
  },
  {
   "cell_type": "code",
   "execution_count": 5,
   "metadata": {},
   "outputs": [
    {
     "data": {
      "text/plain": [
       "(132427, 16)"
      ]
     },
     "execution_count": 5,
     "metadata": {},
     "output_type": "execute_result"
    }
   ],
   "source": [
    "# Look at size of dataframe before dropping null values\n",
    "df.shape"
   ]
  },
  {
   "cell_type": "code",
   "execution_count": 6,
   "metadata": {},
   "outputs": [],
   "source": [
    "# Drop all rows with any null values/ missing data\n",
    "df = df.dropna(how='any')"
   ]
  },
  {
   "cell_type": "code",
   "execution_count": 7,
   "metadata": {},
   "outputs": [
    {
     "data": {
      "text/plain": [
       "(97825, 16)"
      ]
     },
     "execution_count": 7,
     "metadata": {},
     "output_type": "execute_result"
    }
   ],
   "source": [
    "# Look at new size of dataframe\n",
    "df.shape"
   ]
  },
  {
   "cell_type": "markdown",
   "metadata": {},
   "source": [
    "From df.shape, we can see that the number of rows in our data has decreased, which is good. "
   ]
  },
  {
   "cell_type": "markdown",
   "metadata": {},
   "source": [
    "**Question 1 of Analysis:** Which start/stop stations are most popular? \n",
    "\n",
    "*I. Starting Station IDs*"
   ]
  },
  {
   "cell_type": "code",
   "execution_count": 8,
   "metadata": {},
   "outputs": [
    {
     "data": {
      "text/plain": [
       "{3005.0,\n",
       " 3006.0,\n",
       " 3007.0,\n",
       " 3008.0,\n",
       " 3010.0,\n",
       " 3011.0,\n",
       " 3014.0,\n",
       " 3016.0,\n",
       " 3018.0,\n",
       " 3019.0,\n",
       " 3020.0,\n",
       " 3021.0,\n",
       " 3022.0,\n",
       " 3023.0,\n",
       " 3024.0,\n",
       " 3025.0,\n",
       " 3026.0,\n",
       " 3027.0,\n",
       " 3028.0,\n",
       " 3029.0,\n",
       " 3030.0,\n",
       " 3031.0,\n",
       " 3032.0,\n",
       " 3033.0,\n",
       " 3034.0,\n",
       " 3035.0,\n",
       " 3036.0,\n",
       " 3037.0,\n",
       " 3038.0,\n",
       " 3040.0,\n",
       " 3042.0,\n",
       " 3045.0,\n",
       " 3046.0,\n",
       " 3047.0,\n",
       " 3048.0,\n",
       " 3049.0,\n",
       " 3051.0,\n",
       " 3052.0,\n",
       " 3053.0,\n",
       " 3054.0,\n",
       " 3055.0,\n",
       " 3056.0,\n",
       " 3057.0,\n",
       " 3058.0,\n",
       " 3059.0,\n",
       " 3060.0,\n",
       " 3062.0,\n",
       " 3063.0,\n",
       " 3064.0,\n",
       " 3065.0,\n",
       " 3066.0,\n",
       " 3067.0,\n",
       " 3068.0,\n",
       " 3069.0,\n",
       " 3074.0,\n",
       " 3075.0,\n",
       " 3076.0,\n",
       " 3077.0,\n",
       " 3078.0,\n",
       " 3079.0,\n",
       " 3080.0,\n",
       " 3081.0,\n",
       " 3082.0,\n",
       " 4108.0}"
      ]
     },
     "execution_count": 8,
     "metadata": {},
     "output_type": "execute_result"
    }
   ],
   "source": [
    "# Take a look at all possible starting station ID's\n",
    "set(df['Starting Station ID'])"
   ]
  },
  {
   "cell_type": "code",
   "execution_count": 9,
   "metadata": {},
   "outputs": [
    {
     "data": {
      "text/plain": [
       "3030.0    3787\n",
       "3069.0    3715\n",
       "3005.0    3609\n",
       "3014.0    3504\n",
       "3031.0    3450\n",
       "Name: Starting Station ID, dtype: int64"
      ]
     },
     "execution_count": 9,
     "metadata": {},
     "output_type": "execute_result"
    }
   ],
   "source": [
    "# Get top 5 most popular start station IDs and frequencies\n",
    "df['Starting Station ID'].value_counts().head()"
   ]
  },
  {
   "cell_type": "code",
   "execution_count": 10,
   "metadata": {},
   "outputs": [
    {
     "data": {
      "image/png": "[encoded data removed]",
      "text/plain": [
       "<matplotlib.figure.Figure at 0x25fd45fb780>"
      ]
     },
     "metadata": {},
     "output_type": "display_data"
    }
   ],
   "source": [
    "# Plot counts \n",
    "df['Starting Station ID'].value_counts().plot(kind='barh', figsize=[8,18])\n",
    "plt.xlabel('Frequency', fontsize = 12)\n",
    "plt.title('Station Starting ID Frequency')\n",
    "plt.ylabel('Station Starting ID', fontsize = 12)\n",
    "#plt.savefig('startStations.png')\n",
    "plt.show()"
   ]
  },
  {
   "cell_type": "markdown",
   "metadata": {},
   "source": [
    "The station with ID 3030 is our most popular starting station."
   ]
  },
  {
   "cell_type": "markdown",
   "metadata": {},
   "source": [
    "*II. Stopping Station IDs*"
   ]
  },
  {
   "cell_type": "code",
   "execution_count": 11,
   "metadata": {},
   "outputs": [
    {
     "data": {
      "text/plain": [
       "3005.0    4621\n",
       "3031.0    4175\n",
       "3014.0    4091\n",
       "3042.0    3862\n",
       "3069.0    3622\n",
       "Name: Ending Station ID, dtype: int64"
      ]
     },
     "execution_count": 11,
     "metadata": {},
     "output_type": "execute_result"
    }
   ],
   "source": [
    "# Get top 5 most popular stop station IDs and frequencies\n",
    "df['Ending Station ID'].value_counts().head()"
   ]
  },
  {
   "cell_type": "code",
   "execution_count": 12,
   "metadata": {},
   "outputs": [
    {
     "data": {
      "image/png": "[encoded data removed]",
      "text/plain": [
       "<matplotlib.figure.Figure at 0x25fd4754390>"
      ]
     },
     "metadata": {},
     "output_type": "display_data"
    }
   ],
   "source": [
    "# Plot counts \n",
    "df['Ending Station ID'].value_counts().plot(kind='barh', figsize=[8,18])\n",
    "plt.xlabel('Frequency', fontsize = 12)\n",
    "plt.title('Station Ending ID Frequency')\n",
    "plt.ylabel('Station Ending ID', fontsize = 12)\n",
    "plt.savefig('endStations.png')\n",
    "plt.show()"
   ]
  },
  {
   "cell_type": "markdown",
   "metadata": {},
   "source": [
    "The station with ID 3005 is our most popular ending station. Our top five ending stations IDs are: 3005, 3031, 3014, 3042, and 3069. Stations 3005, 3031, 3014, and 3069 were also in the top five starting stations. Station 3042 was in the top ten starting stations. "
   ]
  },
  {
   "cell_type": "markdown",
   "metadata": {},
   "source": [
    "**Question 2 of Analysis:** What is the average distance travelled?"
   ]
  },
  {
   "cell_type": "markdown",
   "metadata": {},
   "source": [
    "Since our data does not provide us the distance travelled for each trip, we need to calculate it. We can use the starting and ending latitudes/longitudes provided to find distance. First, let's check that the latitudes/longitudes are not stored as strings:"
   ]
  },
  {
   "cell_type": "code",
   "execution_count": 13,
   "metadata": {},
   "outputs": [
    {
     "name": "stdout",
     "output_type": "stream",
     "text": [
      "<class 'numpy.float64'>\n",
      "<class 'numpy.float64'>\n",
      "<class 'numpy.float64'>\n",
      "<class 'numpy.float64'>\n"
     ]
    }
   ],
   "source": [
    "print(type(df['Starting Station Latitude'][0]))\n",
    "print(type(df['Starting Station Longitude'][0]))\n",
    "print(type(df['Ending Station Latitude'][0]))\n",
    "print(type(df['Ending Station Longitude'][0]))"
   ]
  },
  {
   "cell_type": "markdown",
   "metadata": {},
   "source": [
    "Looks like we are good to go. We can use the geopy library to calculate distance between two coordinates. "
   ]
  },
  {
   "cell_type": "code",
   "execution_count": 14,
   "metadata": {},
   "outputs": [],
   "source": [
    "# function that returns distance between two coordinates \n",
    "def distance(row):\n",
    "    coords_1 = (row['Starting Station Latitude'], row['Starting Station Longitude'])\n",
    "    coords_2 = (row['Ending Station Latitude'], row['Ending Station Longitude'])\n",
    "    return (geopy.distance.vincenty(coords_1, coords_2).km)\n"
   ]
  },
  {
   "cell_type": "code",
   "execution_count": 38,
   "metadata": {},
   "outputs": [],
   "source": [
    "# calling distance function on each row\n",
    "# creates a new column in dataframe \"Distance Travelled\"\n",
    "df['Distance Traveled']= df.apply(lambda x: distance(x),axis=1)"
   ]
  },
  {
   "cell_type": "code",
   "execution_count": 39,
   "metadata": {},
   "outputs": [
    {
     "data": {
      "text/plain": [
       "count    97825.000000\n",
       "mean         6.203252\n",
       "std        254.424539\n",
       "min          0.000000\n",
       "25%          0.578510\n",
       "50%          0.954576\n",
       "75%          1.453511\n",
       "max      12587.422867\n",
       "Name: Distance Traveled, dtype: float64"
      ]
     },
     "execution_count": 39,
     "metadata": {},
     "output_type": "execute_result"
    }
   ],
   "source": [
    "# Summary statistics of distance travelled \n",
    "df['Distance Traveled'].describe()"
   ]
  },
  {
   "cell_type": "markdown",
   "metadata": {},
   "source": [
    "Our average distance is 6.203 km. Additionally, we have a high standard error and a skewed distribution. We can display the distribution of distance travelled in the form of a box plot. Displayed below: "
   ]
  },
  {
   "cell_type": "code",
   "execution_count": 41,
   "metadata": {},
   "outputs": [
    {
     "data": {
      "image/png": "[encoded data removed]",
      "text/plain": [
       "<matplotlib.figure.Figure at 0x25fd4800710>"
      ]
     },
     "metadata": {},
     "output_type": "display_data"
    }
   ],
   "source": [
    "df['Distance Traveled'].plot.box(figsize=[8,6])\n",
    "plt.savefig('distanceDist')\n",
    "plt.show()"
   ]
  },
  {
   "cell_type": "markdown",
   "metadata": {},
   "source": [
    "We see that most of our data is concentrated on the bottom, where distances travelled are not that far. We see some high outliers as well. "
   ]
  },
  {
   "cell_type": "markdown",
   "metadata": {},
   "source": [
    "**Question 3 of Analysis:** How many riders include bike sharing as a regular part of their commute?"
   ]
  },
  {
   "cell_type": "markdown",
   "metadata": {},
   "source": [
    "Since we are not given User IDs, we will just estimate the number of riders that include bike sharing as a regular part of their commute using the type of passholder they have. \n",
    "\n",
    "There are three types of passholder types: Monthly Pass, Flex Pass, and Walk-up. We will define a rider that regularly uses bike sharing as a rider who holds a Flex Pass (plan duration of 365 days). "
   ]
  },
  {
   "cell_type": "code",
   "execution_count": 18,
   "metadata": {},
   "outputs": [
    {
     "data": {
      "text/plain": [
       "Monthly Pass    60093\n",
       "Walk-up         30532\n",
       "Flex Pass        7200\n",
       "Name: Passholder Type, dtype: int64"
      ]
     },
     "execution_count": 18,
     "metadata": {},
     "output_type": "execute_result"
    }
   ],
   "source": [
    "# Displays counts of passholder types \n",
    "df['Passholder Type'].value_counts()"
   ]
  },
  {
   "cell_type": "code",
   "execution_count": 19,
   "metadata": {},
   "outputs": [
    {
     "data": {
      "image/png": "[encoded data removed]",
      "text/plain": [
       "<matplotlib.figure.Figure at 0x25fd4d32da0>"
      ]
     },
     "metadata": {},
     "output_type": "display_data"
    }
   ],
   "source": [
    "df['Passholder Type'].value_counts().plot(kind='barh', figsize=[6,6])\n",
    "plt.xlabel('Frequency', fontsize = 12)\n",
    "plt.title('Passholder Type Frequency')\n",
    "plt.ylabel('Passholder Type', fontsize = 12)\n",
    "plt.tight_layout()\n",
    "plt.savefig('passholders.png')\n",
    "plt.show()"
   ]
  },
  {
   "cell_type": "markdown",
   "metadata": {},
   "source": [
    "From our output, we can put 7200 riders as the upper bound of riders who use bike share regularly for their commute. This serves as an upper bound because this is the number of *trips* that had Flex passes, which will be greater than the number of users. We will have 7200 users with a Flex pass only if each trip was with a unique user. "
   ]
  },
  {
   "cell_type": "markdown",
   "metadata": {},
   "source": [
    "**Additional Questions of Analysis:**\n",
    "\n",
    "*I. How does ridership change with season?*\n"
   ]
  },
  {
   "cell_type": "code",
   "execution_count": 20,
   "metadata": {},
   "outputs": [
    {
     "data": {
      "text/plain": [
       "dtype('O')"
      ]
     },
     "execution_count": 20,
     "metadata": {},
     "output_type": "execute_result"
    }
   ],
   "source": [
    "# Check our variable type so we know what we are looking at\n",
    "# Returns object type before data is transformed\n",
    "df['Start Time'].dtype"
   ]
  },
  {
   "cell_type": "code",
   "execution_count": 21,
   "metadata": {},
   "outputs": [],
   "source": [
    "# Convert to datetime for facility \n",
    "df['Start Time'] = pd.to_datetime(df['Start Time'], format = \"%Y-%m-%dT%H:%M:%S\")"
   ]
  },
  {
   "cell_type": "code",
   "execution_count": 22,
   "metadata": {},
   "outputs": [],
   "source": [
    "# Create new column that classifies dates in their respective quarters\n",
    "df['Start Time Quarter'] = df['Start Time'].dt.quarter"
   ]
  },
  {
   "cell_type": "code",
   "execution_count": 23,
   "metadata": {},
   "outputs": [
    {
     "data": {
      "text/plain": [
       "3    55439\n",
       "4    42386\n",
       "Name: Start Time Quarter, dtype: int64"
      ]
     },
     "execution_count": 23,
     "metadata": {},
     "output_type": "execute_result"
    }
   ],
   "source": [
    "# Display quarters and their respective counts\n",
    "df['Start Time Quarter'].value_counts()"
   ]
  },
  {
   "cell_type": "markdown",
   "metadata": {},
   "source": [
    "All data falls within the 3rd or 4th quarters. There seems to be a greater number of trips made in the third quarter. "
   ]
  },
  {
   "cell_type": "code",
   "execution_count": 24,
   "metadata": {},
   "outputs": [
    {
     "data": {
      "image/png": "[encoded data removed]",
      "text/plain": [
       "<matplotlib.figure.Figure at 0x25fd4754550>"
      ]
     },
     "metadata": {},
     "output_type": "display_data"
    }
   ],
   "source": [
    "df['Start Time Quarter'].value_counts().plot(kind='bar', figsize=[6,6])\n",
    "plt.xlabel('Quarter', fontsize = 12)\n",
    "plt.title('Quarter Frequency')\n",
    "plt.ylabel('Frequency', fontsize = 12)\n",
    "plt.savefig('seasonQuarters.png')\n",
    "plt.show()"
   ]
  },
  {
   "cell_type": "markdown",
   "metadata": {},
   "source": [
    "Grouping by our quarters, we can gain further insights on our data by looking at different variables within seasons.\n",
    "\n",
    "*i. Looking at Passholder Types:*"
   ]
  },
  {
   "cell_type": "code",
   "execution_count": 25,
   "metadata": {},
   "outputs": [
    {
     "data": {
      "text/html": [
       "<div>\n",
       "<style scoped>\n",
       "    .dataframe tbody tr th:only-of-type {\n",
       "        vertical-align: middle;\n",
       "    }\n",
       "\n",
       "    .dataframe tbody tr th {\n",
       "        vertical-align: top;\n",
       "    }\n",
       "\n",
       "    .dataframe thead th {\n",
       "        text-align: right;\n",
       "    }\n",
       "</style>\n",
       "<table border=\"1\" class=\"dataframe\">\n",
       "  <thead>\n",
       "    <tr style=\"text-align: right;\">\n",
       "      <th></th>\n",
       "      <th>Start Time Quarter</th>\n",
       "      <th>Passholder Type</th>\n",
       "      <th>Trip ID</th>\n",
       "    </tr>\n",
       "  </thead>\n",
       "  <tbody>\n",
       "    <tr>\n",
       "      <th>0</th>\n",
       "      <td>3</td>\n",
       "      <td>Flex Pass</td>\n",
       "      <td>4431</td>\n",
       "    </tr>\n",
       "    <tr>\n",
       "      <th>1</th>\n",
       "      <td>3</td>\n",
       "      <td>Monthly Pass</td>\n",
       "      <td>33216</td>\n",
       "    </tr>\n",
       "    <tr>\n",
       "      <th>2</th>\n",
       "      <td>3</td>\n",
       "      <td>Walk-up</td>\n",
       "      <td>17792</td>\n",
       "    </tr>\n",
       "    <tr>\n",
       "      <th>3</th>\n",
       "      <td>4</td>\n",
       "      <td>Flex Pass</td>\n",
       "      <td>2769</td>\n",
       "    </tr>\n",
       "    <tr>\n",
       "      <th>4</th>\n",
       "      <td>4</td>\n",
       "      <td>Monthly Pass</td>\n",
       "      <td>26877</td>\n",
       "    </tr>\n",
       "    <tr>\n",
       "      <th>5</th>\n",
       "      <td>4</td>\n",
       "      <td>Walk-up</td>\n",
       "      <td>12740</td>\n",
       "    </tr>\n",
       "  </tbody>\n",
       "</table>\n",
       "</div>"
      ],
      "text/plain": [
       "   Start Time Quarter Passholder Type  Trip ID\n",
       "0                   3       Flex Pass     4431\n",
       "1                   3    Monthly Pass    33216\n",
       "2                   3         Walk-up    17792\n",
       "3                   4       Flex Pass     2769\n",
       "4                   4    Monthly Pass    26877\n",
       "5                   4         Walk-up    12740"
      ]
     },
     "execution_count": 25,
     "metadata": {},
     "output_type": "execute_result"
    }
   ],
   "source": [
    "gb = df[['Start Time Quarter', 'Passholder Type', 'Trip ID']].groupby(by=['Start Time Quarter', \n",
    "                                                                     'Passholder Type']).count()\n",
    "gb = gb.reset_index()\n",
    "gb\n"
   ]
  },
  {
   "cell_type": "code",
   "execution_count": 26,
   "metadata": {},
   "outputs": [
    {
     "data": {
      "image/png": "[encoded data removed]",
      "text/plain": [
       "<matplotlib.figure.Figure at 0x25fd4724438>"
      ]
     },
     "metadata": {},
     "output_type": "display_data"
    }
   ],
   "source": [
    "fg = sns.factorplot(x='Passholder Type', y='Trip ID',\n",
    "                        col='Start Time Quarter', data=gb, kind='bar')\n",
    "fg.savefig('seasonPasses.png')"
   ]
  },
  {
   "cell_type": "code",
   "execution_count": 27,
   "metadata": {},
   "outputs": [],
   "source": [
    "ct = pd.crosstab(index=gb['Start Time Quarter'], columns= gb['Passholder Type'], values= gb['Trip ID'], aggfunc = 'sum')"
   ]
  },
  {
   "cell_type": "code",
   "execution_count": 28,
   "metadata": {},
   "outputs": [
    {
     "data": {
      "text/html": [
       "<div>\n",
       "<style scoped>\n",
       "    .dataframe tbody tr th:only-of-type {\n",
       "        vertical-align: middle;\n",
       "    }\n",
       "\n",
       "    .dataframe tbody tr th {\n",
       "        vertical-align: top;\n",
       "    }\n",
       "\n",
       "    .dataframe thead th {\n",
       "        text-align: right;\n",
       "    }\n",
       "</style>\n",
       "<table border=\"1\" class=\"dataframe\">\n",
       "  <thead>\n",
       "    <tr style=\"text-align: right;\">\n",
       "      <th>Passholder Type</th>\n",
       "      <th>Flex Pass</th>\n",
       "      <th>Monthly Pass</th>\n",
       "      <th>Walk-up</th>\n",
       "    </tr>\n",
       "    <tr>\n",
       "      <th>Start Time Quarter</th>\n",
       "      <th></th>\n",
       "      <th></th>\n",
       "      <th></th>\n",
       "    </tr>\n",
       "  </thead>\n",
       "  <tbody>\n",
       "    <tr>\n",
       "      <th>3</th>\n",
       "      <td>4431</td>\n",
       "      <td>33216</td>\n",
       "      <td>17792</td>\n",
       "    </tr>\n",
       "    <tr>\n",
       "      <th>4</th>\n",
       "      <td>2769</td>\n",
       "      <td>26877</td>\n",
       "      <td>12740</td>\n",
       "    </tr>\n",
       "  </tbody>\n",
       "</table>\n",
       "</div>"
      ],
      "text/plain": [
       "Passholder Type     Flex Pass  Monthly Pass  Walk-up\n",
       "Start Time Quarter                                  \n",
       "3                        4431         33216    17792\n",
       "4                        2769         26877    12740"
      ]
     },
     "execution_count": 28,
     "metadata": {},
     "output_type": "execute_result"
    }
   ],
   "source": [
    "ct"
   ]
  },
  {
   "cell_type": "code",
   "execution_count": 29,
   "metadata": {},
   "outputs": [
    {
     "data": {
      "image/png": "[encoded data removed]",
      "text/plain": [
       "<matplotlib.figure.Figure at 0x25fd4790240>"
      ]
     },
     "metadata": {},
     "output_type": "display_data"
    }
   ],
   "source": [
    "# Heatmap/ alternative visualization\n",
    "ax = sns.heatmap(ct, annot=True, fmt=\"d\", vmax=50000)\n",
    "figure = ax.get_figure()    \n",
    "figure.savefig('seasonPassesHeatmap.png', dpi=400)"
   ]
  },
  {
   "cell_type": "markdown",
   "metadata": {},
   "source": [
    "In both quarters 3 and 4, the monthly pass was the most popular, walk up was the second most popular, and flex was the least popular. Overall, there was a lower frequency of each pass in the fourth quarter. This may be due to the winter weather, which can turn people away from biking outside."
   ]
  },
  {
   "cell_type": "markdown",
   "metadata": {},
   "source": [
    "*ii. Looking at Ride Durations:*"
   ]
  },
  {
   "cell_type": "code",
   "execution_count": 30,
   "metadata": {},
   "outputs": [
    {
     "data": {
      "text/html": [
       "<div>\n",
       "<style scoped>\n",
       "    .dataframe tbody tr th:only-of-type {\n",
       "        vertical-align: middle;\n",
       "    }\n",
       "\n",
       "    .dataframe tbody tr th {\n",
       "        vertical-align: top;\n",
       "    }\n",
       "\n",
       "    .dataframe thead th {\n",
       "        text-align: right;\n",
       "    }\n",
       "</style>\n",
       "<table border=\"1\" class=\"dataframe\">\n",
       "  <thead>\n",
       "    <tr style=\"text-align: right;\">\n",
       "      <th></th>\n",
       "      <th>Trip ID</th>\n",
       "      <th>Duration</th>\n",
       "      <th>Starting Station ID</th>\n",
       "      <th>Starting Station Latitude</th>\n",
       "      <th>Starting Station Longitude</th>\n",
       "      <th>Ending Station ID</th>\n",
       "      <th>Ending Station Latitude</th>\n",
       "      <th>Ending Station Longitude</th>\n",
       "      <th>Bike ID</th>\n",
       "      <th>Plan Duration</th>\n",
       "      <th>Distance Travelled</th>\n",
       "    </tr>\n",
       "    <tr>\n",
       "      <th>Start Time Quarter</th>\n",
       "      <th></th>\n",
       "      <th></th>\n",
       "      <th></th>\n",
       "      <th></th>\n",
       "      <th></th>\n",
       "      <th></th>\n",
       "      <th></th>\n",
       "      <th></th>\n",
       "      <th></th>\n",
       "      <th></th>\n",
       "      <th></th>\n",
       "    </tr>\n",
       "  </thead>\n",
       "  <tbody>\n",
       "    <tr>\n",
       "      <th>3</th>\n",
       "      <td>5.261265e+06</td>\n",
       "      <td>1436.717473</td>\n",
       "      <td>3041.390303</td>\n",
       "      <td>34.028000</td>\n",
       "      <td>-118.181677</td>\n",
       "      <td>3041.062501</td>\n",
       "      <td>34.017761</td>\n",
       "      <td>-118.147208</td>\n",
       "      <td>6192.720522</td>\n",
       "      <td>47.147225</td>\n",
       "      <td>10.136393</td>\n",
       "    </tr>\n",
       "    <tr>\n",
       "      <th>4</th>\n",
       "      <td>1.262447e+07</td>\n",
       "      <td>1265.733025</td>\n",
       "      <td>3042.828340</td>\n",
       "      <td>34.047474</td>\n",
       "      <td>-118.250076</td>\n",
       "      <td>3042.186901</td>\n",
       "      <td>34.046962</td>\n",
       "      <td>-118.249810</td>\n",
       "      <td>6194.976879</td>\n",
       "      <td>42.867810</td>\n",
       "      <td>1.058880</td>\n",
       "    </tr>\n",
       "  </tbody>\n",
       "</table>\n",
       "</div>"
      ],
      "text/plain": [
       "                         Trip ID     Duration  Starting Station ID  \\\n",
       "Start Time Quarter                                                   \n",
       "3                   5.261265e+06  1436.717473          3041.390303   \n",
       "4                   1.262447e+07  1265.733025          3042.828340   \n",
       "\n",
       "                    Starting Station Latitude  Starting Station Longitude  \\\n",
       "Start Time Quarter                                                          \n",
       "3                                   34.028000                 -118.181677   \n",
       "4                                   34.047474                 -118.250076   \n",
       "\n",
       "                    Ending Station ID  Ending Station Latitude  \\\n",
       "Start Time Quarter                                               \n",
       "3                         3041.062501                34.017761   \n",
       "4                         3042.186901                34.046962   \n",
       "\n",
       "                    Ending Station Longitude      Bike ID  Plan Duration  \\\n",
       "Start Time Quarter                                                         \n",
       "3                                -118.147208  6192.720522      47.147225   \n",
       "4                                -118.249810  6194.976879      42.867810   \n",
       "\n",
       "                    Distance Travelled  \n",
       "Start Time Quarter                      \n",
       "3                            10.136393  \n",
       "4                             1.058880  "
      ]
     },
     "execution_count": 30,
     "metadata": {},
     "output_type": "execute_result"
    }
   ],
   "source": [
    "df.groupby(['Start Time Quarter']).mean()"
   ]
  },
  {
   "cell_type": "code",
   "execution_count": 31,
   "metadata": {},
   "outputs": [
    {
     "name": "stdout",
     "output_type": "stream",
     "text": [
      "   Start Time Quarter     Duration\n",
      "0                   3  1436.717473\n",
      "1                   4  1265.733025\n"
     ]
    }
   ],
   "source": [
    "df1 = df.groupby(['Start Time Quarter']).agg({'Duration': 'mean'}).reset_index()\n",
    "print(df1)"
   ]
  },
  {
   "cell_type": "code",
   "execution_count": 32,
   "metadata": {},
   "outputs": [
    {
     "name": "stdout",
     "output_type": "stream",
     "text": [
      "   Start Time Quarter  Duration\n",
      "0                   3  79650180\n",
      "1                   4  53649360\n"
     ]
    }
   ],
   "source": [
    "df2 = df.groupby(['Start Time Quarter']).agg({'Duration':'sum'}).reset_index()\n",
    "print(df2)"
   ]
  },
  {
   "cell_type": "code",
   "execution_count": 33,
   "metadata": {},
   "outputs": [
    {
     "data": {
      "image/png": "[encoded data removed]",
      "text/plain": [
       "<matplotlib.figure.Figure at 0x25fd5c92080>"
      ]
     },
     "metadata": {},
     "output_type": "display_data"
    }
   ],
   "source": [
    "means = df1.plot.bar(x='Start Time Quarter', y='Duration', legend = False, title = \n",
    "                     'Mean Duration for Start Time Quarter')\n",
    "figMeans = means.get_figure()    \n",
    "figMeans.savefig('seasonDurationMeans.png', dpi=400)"
   ]
  },
  {
   "cell_type": "code",
   "execution_count": 34,
   "metadata": {},
   "outputs": [
    {
     "data": {
      "image/png": "[encoded data removed]",
      "text/plain": [
       "<matplotlib.figure.Figure at 0x25fd7b156a0>"
      ]
     },
     "metadata": {},
     "output_type": "display_data"
    }
   ],
   "source": [
    "sum = df2.plot.bar(x='Start Time Quarter', y='Duration', legend = False, title = \n",
    "                     'Total Duration for Start Time Quarter')\n",
    "figSum = means.get_figure()    \n",
    "figSum.savefig('seasonDurationSums.png', dpi=400)"
   ]
  },
  {
   "cell_type": "markdown",
   "metadata": {},
   "source": [
    "Both sums and means of duration is higher in quarter 3 than in quarter 4, indicating that people are biking less in quarter 4. Like in part *i. Looking at Passholder Types* , it may be possible that the winter months discourage people to bike. "
   ]
  },
  {
   "cell_type": "markdown",
   "metadata": {},
   "source": [
    "*II. What is the breakdown of Trip Route Category-Passholder type combinations? What might make a particular combination more popular?*"
   ]
  },
  {
   "cell_type": "code",
   "execution_count": 35,
   "metadata": {},
   "outputs": [
    {
     "data": {
      "text/html": [
       "<div>\n",
       "<style scoped>\n",
       "    .dataframe tbody tr th:only-of-type {\n",
       "        vertical-align: middle;\n",
       "    }\n",
       "\n",
       "    .dataframe tbody tr th {\n",
       "        vertical-align: top;\n",
       "    }\n",
       "\n",
       "    .dataframe thead th {\n",
       "        text-align: right;\n",
       "    }\n",
       "</style>\n",
       "<table border=\"1\" class=\"dataframe\">\n",
       "  <thead>\n",
       "    <tr style=\"text-align: right;\">\n",
       "      <th></th>\n",
       "      <th>Passholder Type</th>\n",
       "      <th>Trip Route Category</th>\n",
       "      <th>Trip ID</th>\n",
       "    </tr>\n",
       "  </thead>\n",
       "  <tbody>\n",
       "    <tr>\n",
       "      <th>0</th>\n",
       "      <td>Flex Pass</td>\n",
       "      <td>One Way</td>\n",
       "      <td>6833</td>\n",
       "    </tr>\n",
       "    <tr>\n",
       "      <th>1</th>\n",
       "      <td>Flex Pass</td>\n",
       "      <td>Round Trip</td>\n",
       "      <td>367</td>\n",
       "    </tr>\n",
       "    <tr>\n",
       "      <th>2</th>\n",
       "      <td>Monthly Pass</td>\n",
       "      <td>One Way</td>\n",
       "      <td>57192</td>\n",
       "    </tr>\n",
       "    <tr>\n",
       "      <th>3</th>\n",
       "      <td>Monthly Pass</td>\n",
       "      <td>Round Trip</td>\n",
       "      <td>2901</td>\n",
       "    </tr>\n",
       "    <tr>\n",
       "      <th>4</th>\n",
       "      <td>Walk-up</td>\n",
       "      <td>One Way</td>\n",
       "      <td>24241</td>\n",
       "    </tr>\n",
       "    <tr>\n",
       "      <th>5</th>\n",
       "      <td>Walk-up</td>\n",
       "      <td>Round Trip</td>\n",
       "      <td>6291</td>\n",
       "    </tr>\n",
       "  </tbody>\n",
       "</table>\n",
       "</div>"
      ],
      "text/plain": [
       "  Passholder Type Trip Route Category  Trip ID\n",
       "0       Flex Pass             One Way     6833\n",
       "1       Flex Pass          Round Trip      367\n",
       "2    Monthly Pass             One Way    57192\n",
       "3    Monthly Pass          Round Trip     2901\n",
       "4         Walk-up             One Way    24241\n",
       "5         Walk-up          Round Trip     6291"
      ]
     },
     "execution_count": 35,
     "metadata": {},
     "output_type": "execute_result"
    }
   ],
   "source": [
    "# lq = df.groupby(['Passholder Type', 'Trip Route Category', 'Trip ID']).size()\n",
    "\n",
    "lq = df[['Passholder Type', 'Trip Route Category', 'Trip ID']].groupby(by=['Passholder Type', \n",
    "                                                                     'Trip Route Category']).count()\n",
    "lq = lq.reset_index()\n",
    "lq"
   ]
  },
  {
   "cell_type": "code",
   "execution_count": 36,
   "metadata": {},
   "outputs": [
    {
     "data": {
      "image/png": "[encoded data removed]",
      "text/plain": [
       "<matplotlib.figure.Figure at 0x25fd4e7f080>"
      ]
     },
     "metadata": {},
     "output_type": "display_data"
    }
   ],
   "source": [
    "combosFig = sns.factorplot(x='Trip Route Category', y='Trip ID',\n",
    "                        col='Passholder Type', data=lq, kind='bar')\n",
    "combosFig.savefig('passTripCombos.png')"
   ]
  }
 ],
 "metadata": {
  "kernelspec": {
   "display_name": "Python 3",
   "language": "python",
   "name": "python3"
  },
  "language_info": {
   "codemirror_mode": {
    "name": "ipython",
    "version": 3
   },
   "file_extension": ".py",
   "mimetype": "text/x-python",
   "name": "python",
   "nbconvert_exporter": "python",
   "pygments_lexer": "ipython3",
   "version": "3.6.4"
  }
 },
 "nbformat": 4,
 "nbformat_minor": 2
}
